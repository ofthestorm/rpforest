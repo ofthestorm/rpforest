{
 "cells": [
  {
   "cell_type": "code",
   "execution_count": null,
   "metadata": {},
   "outputs": [],
   "source": [
    "import numpy\n",
    "import threading\n",
    "import csv\n",
    "import pandas as pd\n",
    "from rpforest import RPForest\n",
    "\n",
    "def leaves(predict, leaf):\n",
    "    treeleaves = predict[0:leaf]\n",
    "    return treeleaves\n",
    "\n",
    "\n",
    "def missrateav(n, k, model, data, labels, leaf):\n",
    "    miss = 0\n",
    "    for i in range(n):\n",
    "        count = 0\n",
    "        predict = model.get_candidates(data[i], number=k, normalise=False)\n",
    "        treeleaves = leaves(predict, leaf)\n",
    "        for j in range(leaf):\n",
    "            if labels[treeleaves[j]] == labels[i]:\n",
    "                count = count + 1\n",
    "        if count < k:\n",
    "            miss = miss + k - count\n",
    "    return miss / (n*k)\n",
    "\n",
    "\n",
    "def discrepancyav(n, k, model, data):\n",
    "    dist = 0\n",
    "    for i in range(n):\n",
    "        predict = model.get_candidates(data[i], number=k, normalise=False)\n",
    "        dist = dist + numpy.linalg.norm(data[i] - data[predict[k-1]])\n",
    "    return dist / n\n",
    "\n",
    "\n",
    "def evaluate(data, labels, n, k, t, leaf, steps, runs, avmra, avdia):\n",
    "    global rc\n",
    "    for r in range(runs):\n",
    "        mra = numpy.empty(steps, dtype=float)\n",
    "        dia = numpy.empty(steps, dtype=float)\n",
    "        for i in range(steps):\n",
    "            model = RPForest(leaf_size=leaf, no_trees=t)\n",
    "            model.fit(data, normalise=False)\n",
    "            miss = 0\n",
    "            mra[i] = missrateav(n, k, model, data, labels, leaf)\n",
    "            dia[i] = discrepancyav(n, k, model, data)\n",
    "            model.clear()\n",
    "            if t == 100:\n",
    "                t = 10\n",
    "            elif i == 0:\n",
    "                t = t + 10\n",
    "            else:\n",
    "                t = t + 20\n",
    "        for w in range(steps):\n",
    "            avmra[w] = avmra[w] + mra[w]\n",
    "            avdia[w] = avdia[w] + dia[w]\n",
    "        rc = rc + 1\n",
    "        if rc == 1:\n",
    "            print(str(rc) + ' Execution Out of ' + str(run) + ' Completed Successfully!')\n",
    "        else:\n",
    "            print(str(rc) + ' Executions Out of ' + str(run) + ' Completed Successfully!')\n",
    "\n",
    "\n",
    "def normalise(avdia, avdiatemp, steps):\n",
    "    minim = numpy.min(avdiatemp)\n",
    "    maxim = numpy.max(avdiatemp)\n",
    "    for s in range(steps):\n",
    "        avdia[s] = (avdiatemp[s] - minim) / (maxim - minim)\n"
   ]
  },
  {
   "cell_type": "code",
   "execution_count": null,
   "metadata": {},
   "outputs": [],
   "source": [
    "data = pd.read_csv('/Users/keke/Downloads/data/iris.data', sep=',').values\n",
    "data = numpy.ascontiguousarray(data)\n",
    "labels = data[:,-1]\n",
    "data =  numpy.ascontiguousarray(data[:,:-1])\n",
    "data = data.astype('double')"
   ]
  },
  {
   "cell_type": "code",
   "execution_count": null,
   "metadata": {},
   "outputs": [],
   "source": [
    "all_data = pd.read_csv('/Users/keke/Downloads/gisette_train.data', sep=' ').values\n",
    "all_labels = pd.read_csv('/Users/keke/Downloads/gisette_train.labels', sep=' ').values"
   ]
  },
  {
   "cell_type": "code",
   "execution_count": null,
   "metadata": {},
   "outputs": [],
   "source": [
    "unique, counts = numpy.unique(all_labels , return_counts=True)\n",
    "dict(zip(unique, counts))"
   ]
  },
  {
   "cell_type": "code",
   "execution_count": null,
   "metadata": {},
   "outputs": [],
   "source": [
    "data = all_data[0:500,0:500]\n",
    "labels = all_labels[0:500,:]\n",
    "data = numpy.ascontiguousarray(data)\n",
    "data = data.astype('double')"
   ]
  },
  {
   "cell_type": "code",
   "execution_count": null,
   "metadata": {},
   "outputs": [],
   "source": [
    "data.flags"
   ]
  },
  {
   "cell_type": "code",
   "execution_count": null,
   "metadata": {
    "scrolled": true
   },
   "outputs": [],
   "source": [
    "data.shape"
   ]
  },
  {
   "cell_type": "code",
   "execution_count": null,
   "metadata": {},
   "outputs": [],
   "source": [
    "n = data.shape[0]\n",
    "k = 5\n",
    "t = 10\n",
    "leaf = 20\n",
    "steps = 6\n",
    "run = 100\n",
    "threads = 4\n",
    "rc = 0\n",
    "t1avmra = numpy.zeros(steps, dtype=float)\n",
    "t1avdia = numpy.zeros(steps, dtype=float)\n",
    "t2avmra = numpy.zeros(steps, dtype=float)\n",
    "t2avdia = numpy.zeros(steps, dtype=float)\n",
    "t3avmra = numpy.zeros(steps, dtype=float)\n",
    "t3avdia = numpy.zeros(steps, dtype=float)\n",
    "t4avmra = numpy.zeros(steps, dtype=float)\n",
    "t4avdia = numpy.zeros(steps, dtype=float)\n",
    "avmra = numpy.zeros(steps, dtype=float)\n",
    "avdiatemp = numpy.zeros(steps, dtype=float)\n",
    "avdia = numpy.zeros(steps, dtype=float)\n",
    "\n",
    "t1 = threading.Thread(target=evaluate, args=(data, labels, n, k, t, leaf, steps, int(run / threads), t1avmra, t1avdia))\n",
    "t2 = threading.Thread(target=evaluate, args=(data, labels, n, k, t, leaf, steps, int(run / threads), t2avmra, t2avdia))\n",
    "t3 = threading.Thread(target=evaluate, args=(data, labels, n, k, t, leaf, steps, int(run / threads), t3avmra, t3avdia))\n",
    "t4 = threading.Thread(target=evaluate, args=(data, labels, n, k, t, leaf, steps, int(run / threads), t4avmra, t4avdia))\n",
    "t1.start()\n",
    "t2.start()\n",
    "t3.start()\n",
    "t4.start()\n",
    "t1.join()\n",
    "t2.join()\n",
    "t3.join()\n",
    "t4.join()\n",
    "for i in range(steps):\n",
    "    avmra[i] = t1avmra[i] + t2avmra[i] + t3avmra[i] + t4avmra[i]\n",
    "    avdiatemp[i] = t1avdia[i] + t2avdia[i] + t3avdia[i] + t4avdia[i]\n",
    "for j in range(steps):\n",
    "    avmra[j] = avmra[j] / rc\n",
    "    avdiatemp[j] = avdiatemp[j] / rc\n",
    "normalise(avdia, avdiatemp, steps)\n",
    "\n",
    "print('Average Missing Rate For Different Number of Trees in The Forest:')\n",
    "print(avmra)\n",
    "print('Average Discrepancy For Different Number of Trees in The Forest:')\n",
    "print(avdia)\n"
   ]
  },
  {
   "cell_type": "code",
   "execution_count": 189,
   "metadata": {
    "scrolled": true
   },
   "outputs": [
    {
     "data": {
      "image/png": "[encoded data removed]",
      "text/plain": [
       "<Figure size 432x288 with 2 Axes>"
      ]
     },
     "metadata": {
      "needs_background": "light"
     },
     "output_type": "display_data"
    }
   ],
   "source": [
    "from matplotlib import pyplot as plt \n",
    "\n",
    "plt.subplot(211)\n",
    "plt.xlabel(\"Number of trees (K = 5)\") \n",
    "plt.ylabel(\"Missing Rate\") \n",
    "plt.ylim(0, 0.01)\n",
    "plt.plot([10,20,40,60,80,100],avmra) \n",
    "\n",
    "plt.subplot(212)\n",
    "plt.xlabel(\"Number of trees (K = 5)\") \n",
    "plt.ylabel(\"Distance Error\") \n",
    "plt.plot([10,20,40,60,80,100],avdia) \n",
    "plt.show()"
   ]
  },
  {
   "cell_type": "code",
   "execution_count": 174,
   "metadata": {},
   "outputs": [],
   "source": [
    "from sklearn.model_selection import train_test_split\n",
    "X_train, X_test, y_train, y_test = train_test_split(data, labels, test_size=0.2, random_state=0)"
   ]
  },
  {
   "cell_type": "code",
   "execution_count": 175,
   "metadata": {},
   "outputs": [
    {
     "data": {
      "text/plain": [
       "<rpforest.rpforest.RPForest at 0x12082ef10>"
      ]
     },
     "execution_count": 175,
     "metadata": {},
     "output_type": "execute_result"
    }
   ],
   "source": [
    "t = 10\n",
    "rpf = RPForest(leaf_size=leaf, no_trees=t)\n",
    "rpf.fit(X_train)"
   ]
  },
  {
   "cell_type": "code",
   "execution_count": 182,
   "metadata": {},
   "outputs": [
    {
     "name": "stdout",
     "output_type": "stream",
     "text": [
      "rpforest\n",
      "Accuracy:  0.9\n",
      "Precision:  0.9024390243902439\n",
      "Recall:  0.8604651162790697\n",
      "F1 measure:  0.8809523809523809\n"
     ]
    }
   ],
   "source": [
    "tp = 0\n",
    "tn = 0\n",
    "fp = 0\n",
    "fn = 0\n",
    "\n",
    "for i in range(len(X_test)):\n",
    "    neighbors = rpf.query(X_test[i,:], 5)\n",
    "    n_labels = []\n",
    "    for n in neighbors:\n",
    "        n_labels.append(y_train[n][0]) \n",
    "    word_counts = Counter(n_labels)\n",
    "    label = word_counts.most_common(1)\n",
    "\n",
    "    if label[0][0] == 1 and y_test[i][0] == 1:\n",
    "        tp += 1\n",
    "    elif label[0][0] == 1 and y_test[i][0] == -1:\n",
    "        fp += 1\n",
    "    elif label[0][0] == -1 and y_test[i][0] == 1:\n",
    "        fn += 1\n",
    "    elif label[0][0] == -1 and y_test[i][0] == -1:\n",
    "        tn += 1\n",
    "# print(tp, fp, fn, tn)\n",
    "acc = (tp+tn)/(tp+tn+fp+fn)\n",
    "pre = (tp)/(tp+fp)\n",
    "rec = (tp)/(tp+fn)\n",
    "f1 = 2*(pre*rec)/(pre+rec)\n",
    "\n",
    "print('rpforest')\n",
    "print(\"Accuracy: \", acc)\n",
    "print(\"Precision: \", pre)\n",
    "print(\"Recall: \", rec)\n",
    "print('F1 measure: ', f1)"
   ]
  },
  {
   "cell_type": "code",
   "execution_count": 179,
   "metadata": {},
   "outputs": [
    {
     "name": "stdout",
     "output_type": "stream",
     "text": [
      "Random Forest\n",
      "Accuracy:  0.96\n",
      "Precision:  0.9333333333333333\n",
      "Recall:  0.9767441860465116\n",
      "F1 measure:  0.9545454545454545\n",
      "\n",
      "KNN\n",
      "Accuracy:  0.87\n",
      "Precision:  0.8\n",
      "Recall:  0.9302325581395349\n",
      "F1 measure:  0.8602150537634408\n",
      "\n",
      "rpforest\n",
      "Accuracy:  0.9\n",
      "Precision:  0.9024390243902439\n",
      "Recall:  0.8604651162790697\n",
      "F1 measure:  0.8809523809523809\n"
     ]
    }
   ],
   "source": [
    "from sklearn.ensemble import RandomForestClassifier\n",
    "from sklearn.neighbors import KNeighborsClassifier\n",
    "from sklearn.metrics import confusion_matrix\n",
    "from sklearn.metrics import accuracy_score, precision_score, recall_score,f1_score\n",
    "\n",
    "print('Random Forest')\n",
    "clf = RandomForestClassifier()\n",
    "clf.fit(X_train, y_train.ravel())\n",
    "y_pred = clf.predict(X_test)\n",
    "# print('Confusion matrix: \\n',confusion_matrix(y_test, y_pred, labels=None, sample_weight=None))\n",
    "print('Accuracy: ',accuracy_score(y_test, y_pred))\n",
    "print('Precision: ',precision_score(y_test, y_pred))\n",
    "print('Recall: ',recall_score(y_test, y_pred))\n",
    "print('F1 measure: ',f1_score(y_test, y_pred))\n",
    "\n",
    "\n",
    "print('\\nKNN')\n",
    "neigh = KNeighborsClassifier(n_neighbors=5)\n",
    "neigh.fit(X_train, y_train.ravel())\n",
    "y_pred2 = neigh.predict(X_test)\n",
    "# print('Confusion matrix: \\n',confusion_matrix(y_test, y_pred2, labels=None, sample_weight=None))\n",
    "print('Accuracy: ',accuracy_score(y_test, y_pred2))\n",
    "print('Precision: ',precision_score(y_test, y_pred2))\n",
    "print('Recall: ',recall_score(y_test, y_pred2))\n",
    "print('F1 measure: ',f1_score(y_test, y_pred2))\n",
    "\n",
    "print('\\nrpforest')\n",
    "print(\"Accuracy: \", acc)\n",
    "print(\"Precision: \", pre)\n",
    "print(\"Recall: \", rec)\n",
    "print('F1 measure: ', f1)"
   ]
  },
  {
   "cell_type": "code",
   "execution_count": 183,
   "metadata": {
    "scrolled": true
   },
   "outputs": [
    {
     "name": "stdout",
     "output_type": "stream",
     "text": [
      "+---------------+----------+--------------------+--------------------+--------------------+\n",
      "|               | Accuracy |     Precision      |       Recall       |     F1 measure     |\n",
      "+---------------+----------+--------------------+--------------------+--------------------+\n",
      "| Random Forest |   0.96   | 0.9333333333333333 | 0.9767441860465116 | 0.9545454545454545 |\n",
      "|      KNN      |   0.87   |        0.8         | 0.9302325581395349 | 0.8602150537634408 |\n",
      "|    rpforest   |   0.9    | 0.9024390243902439 | 0.8604651162790697 | 0.8809523809523809 |\n",
      "+---------------+----------+--------------------+--------------------+--------------------+\n"
     ]
    }
   ],
   "source": [
    "import prettytable as pt\n",
    "\n",
    "tb = pt.PrettyTable()\n",
    "tb.field_names = [\"\", \"Accuracy\", \"Precision\", \"Recall\",\"F1 measure\"]\n",
    "tb.add_row([\"Random Forest\",accuracy_score(y_test, y_pred),precision_score(y_test, y_pred),recall_score(y_test, y_pred),f1_score(y_test, y_pred)])\n",
    "tb.add_row([\"KNN\", accuracy_score(y_test, y_pred2),precision_score(y_test, y_pred2),recall_score(y_test, y_pred2),f1_score(y_test, y_pred2)])\n",
    "tb.add_row([\"rpforest\",acc,pre,rec,f1])\n",
    "\n",
    "print(tb)"
   ]
  },
  {
   "cell_type": "code",
   "execution_count": null,
   "metadata": {},
   "outputs": [],
   "source": []
  }
 ],
 "metadata": {
  "kernelspec": {
   "display_name": "Python 3",
   "language": "python",
   "name": "python3"
  },
  "language_info": {
   "codemirror_mode": {
    "name": "ipython",
    "version": 3
   },
   "file_extension": ".py",
   "mimetype": "text/x-python",
   "name": "python",
   "nbconvert_exporter": "python",
   "pygments_lexer": "ipython3",
   "version": "3.9.0"
  }
 },
 "nbformat": 4,
 "nbformat_minor": 4
}
